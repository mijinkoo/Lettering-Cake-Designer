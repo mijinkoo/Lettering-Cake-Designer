{
  "cells": [
    {
      "cell_type": "code",
      "execution_count": 1,
      "metadata": {
        "colab": {
          "base_uri": "https://localhost:8080/"
        },
        "id": "v1ZD4q2TdjBv",
        "outputId": "b9749a29-a581-4771-e7b1-1c076c241403"
      },
      "outputs": [
        {
          "output_type": "stream",
          "name": "stdout",
          "text": [
            "Looking in indexes: https://pypi.org/simple, https://us-python.pkg.dev/colab-wheels/public/simple/\n",
            "Requirement already satisfied: flask-ngrok in /usr/local/lib/python3.7/dist-packages (0.0.25)\n",
            "Requirement already satisfied: Flask>=0.8 in /usr/local/lib/python3.7/dist-packages (from flask-ngrok) (1.1.4)\n",
            "Requirement already satisfied: requests in /usr/local/lib/python3.7/dist-packages (from flask-ngrok) (2.23.0)\n",
            "Requirement already satisfied: Werkzeug<2.0,>=0.15 in /usr/local/lib/python3.7/dist-packages (from Flask>=0.8->flask-ngrok) (1.0.1)\n",
            "Requirement already satisfied: Jinja2<3.0,>=2.10.1 in /usr/local/lib/python3.7/dist-packages (from Flask>=0.8->flask-ngrok) (2.11.3)\n",
            "Requirement already satisfied: itsdangerous<2.0,>=0.24 in /usr/local/lib/python3.7/dist-packages (from Flask>=0.8->flask-ngrok) (1.1.0)\n",
            "Requirement already satisfied: click<8.0,>=5.1 in /usr/local/lib/python3.7/dist-packages (from Flask>=0.8->flask-ngrok) (7.1.2)\n",
            "Requirement already satisfied: MarkupSafe>=0.23 in /usr/local/lib/python3.7/dist-packages (from Jinja2<3.0,>=2.10.1->Flask>=0.8->flask-ngrok) (2.0.1)\n",
            "Requirement already satisfied: chardet<4,>=3.0.2 in /usr/local/lib/python3.7/dist-packages (from requests->flask-ngrok) (3.0.4)\n",
            "Requirement already satisfied: certifi>=2017.4.17 in /usr/local/lib/python3.7/dist-packages (from requests->flask-ngrok) (2022.6.15)\n",
            "Requirement already satisfied: urllib3!=1.25.0,!=1.25.1,<1.26,>=1.21.1 in /usr/local/lib/python3.7/dist-packages (from requests->flask-ngrok) (1.24.3)\n",
            "Requirement already satisfied: idna<3,>=2.5 in /usr/local/lib/python3.7/dist-packages (from requests->flask-ngrok) (2.10)\n"
          ]
        }
      ],
      "source": [
        "!pip install flask-ngrok\n",
        "from flask import Flask, url_for, redirect, render_template, request\n",
        "from flask_ngrok import run_with_ngrok\n",
        "import os, sys\n",
        "from flask import Flask, escape, request, Response, g, make_response\n",
        "from flask.templating import render_template"
      ]
    },
    {
      "cell_type": "code",
      "execution_count": 2,
      "metadata": {
        "colab": {
          "base_uri": "https://localhost:8080/"
        },
        "id": "PfivCWA5qELx",
        "outputId": "74c7906f-0e68-4585-8613-0b41e35b550c"
      },
      "outputs": [
        {
          "output_type": "stream",
          "name": "stdout",
          "text": [
            "Looking in indexes: https://pypi.org/simple, https://us-python.pkg.dev/colab-wheels/public/simple/\n",
            "Requirement already satisfied: pyngrok in /usr/local/lib/python3.7/dist-packages (5.1.0)\n",
            "Requirement already satisfied: PyYAML in /usr/local/lib/python3.7/dist-packages (from pyngrok) (3.13)\n"
          ]
        }
      ],
      "source": [
        "!pip install pyngrok"
      ]
    },
    {
      "cell_type": "code",
      "execution_count": 3,
      "metadata": {
        "id": "I_m6I5wDqLIJ"
      },
      "outputs": [],
      "source": [
        "from flask import Flask\n",
        "from pyngrok import ngrok"
      ]
    },
    {
      "cell_type": "code",
      "execution_count": 4,
      "metadata": {
        "id": "-53Dy9qzqLO4"
      },
      "outputs": [],
      "source": [
        "port_no=5000"
      ]
    },
    {
      "cell_type": "code",
      "execution_count": 11,
      "metadata": {
        "id": "gFuWUeBurWCL"
      },
      "outputs": [],
      "source": [
        "TEMPLATE_FOLDER = '/content/templates' # 임의의 경로\n",
        "STATIC_FOLDER = '/content/static' # 임의의 경로\n",
        "app = Flask(__name__, template_folder=TEMPLATE_FOLDER, static_folder = STATIC_FOLDER)\n",
        "#run_with_ngrok(app)"
      ]
    },
    {
      "cell_type": "code",
      "execution_count": 12,
      "metadata": {
        "id": "EeOJFi1gr6yv"
      },
      "outputs": [],
      "source": [
        "ngrok.set_auth_token(\"2DHphD7npLvxHoZGKEPckLJYgio_5mw2MBrfJfAFDsYSNkF2J\")\n",
        "public_url=ngrok.connect(5000).public_url"
      ]
    },
    {
      "cell_type": "code",
      "execution_count": 13,
      "metadata": {
        "colab": {
          "base_uri": "https://localhost:8080/"
        },
        "id": "GWvTJs7FrCIf",
        "outputId": "3ba66ec1-a467-4e4a-d7d5-0562c159560c"
      },
      "outputs": [
        {
          "output_type": "stream",
          "name": "stdout",
          "text": [
            "http://6569-35-204-53-39.ngrok.io\n",
            " * Serving Flask app \"__main__\" (lazy loading)\n",
            " * Environment: production\n",
            "\u001b[31m   WARNING: This is a development server. Do not use it in a production deployment.\u001b[0m\n",
            "\u001b[2m   Use a production WSGI server instead.\u001b[0m\n",
            " * Debug mode: off\n"
          ]
        },
        {
          "output_type": "stream",
          "name": "stderr",
          "text": [
            "INFO:werkzeug: * Running on http://127.0.0.1:5000/ (Press CTRL+C to quit)\n",
            "INFO:werkzeug:127.0.0.1 - - [15/Aug/2022 09:33:36] \"\u001b[37mGET / HTTP/1.1\u001b[0m\" 200 -\n",
            "INFO:werkzeug:127.0.0.1 - - [15/Aug/2022 09:33:36] \"\u001b[37mGET /static/style2.css HTTP/1.1\u001b[0m\" 200 -\n",
            "INFO:werkzeug:127.0.0.1 - - [15/Aug/2022 09:33:36] \"\u001b[32mGET /static//css/button.css HTTP/1.1\u001b[0m\" 308 -\n",
            "INFO:werkzeug:127.0.0.1 - - [15/Aug/2022 09:33:36] \"\u001b[32mGET /static//css/font.css HTTP/1.1\u001b[0m\" 308 -\n",
            "INFO:werkzeug:127.0.0.1 - - [15/Aug/2022 09:33:36] \"\u001b[37mGET /static/css/button.css HTTP/1.1\u001b[0m\" 200 -\n",
            "INFO:werkzeug:127.0.0.1 - - [15/Aug/2022 09:33:36] \"\u001b[37mGET /static/css/font.css HTTP/1.1\u001b[0m\" 200 -\n",
            "INFO:werkzeug:127.0.0.1 - - [15/Aug/2022 09:33:37] \"\u001b[37mGET /static/font/BMEULJIRO.ttf HTTP/1.1\u001b[0m\" 200 -\n",
            "INFO:werkzeug:127.0.0.1 - - [15/Aug/2022 09:33:37] \"\u001b[37mGET /static/video.mp4 HTTP/1.1\u001b[0m\" 206 -\n",
            "INFO:werkzeug:127.0.0.1 - - [15/Aug/2022 09:33:38] \"\u001b[33mGET /favicon.ico HTTP/1.1\u001b[0m\" 404 -\n",
            "INFO:werkzeug:127.0.0.1 - - [15/Aug/2022 09:33:45] \"\u001b[37mPOST /page_edit HTTP/1.1\u001b[0m\" 200 -\n",
            "INFO:werkzeug:127.0.0.1 - - [15/Aug/2022 09:33:45] \"\u001b[32mGET /static//css/style.css HTTP/1.1\u001b[0m\" 308 -\n",
            "INFO:werkzeug:127.0.0.1 - - [15/Aug/2022 09:33:45] \"\u001b[37mGET /static/1.jpg HTTP/1.1\u001b[0m\" 200 -\n",
            "INFO:werkzeug:127.0.0.1 - - [15/Aug/2022 09:33:45] \"\u001b[32mGET /static//js/script.js HTTP/1.1\u001b[0m\" 308 -\n",
            "INFO:werkzeug:127.0.0.1 - - [15/Aug/2022 09:33:46] \"\u001b[37mGET /static/css/style.css HTTP/1.1\u001b[0m\" 200 -\n",
            "INFO:werkzeug:127.0.0.1 - - [15/Aug/2022 09:33:46] \"\u001b[37mGET /static/js/script.js HTTP/1.1\u001b[0m\" 200 -\n",
            "INFO:werkzeug:127.0.0.1 - - [15/Aug/2022 09:33:54] \"\u001b[37mGET /static/font/BMJUA.ttf HTTP/1.1\u001b[0m\" 200 -\n",
            "INFO:werkzeug:127.0.0.1 - - [15/Aug/2022 09:33:54] \"\u001b[37mGET /static/font/Maplestory.ttf HTTP/1.1\u001b[0m\" 200 -\n",
            "INFO:werkzeug:127.0.0.1 - - [15/Aug/2022 09:33:54] \"\u001b[37mGET /static/font/Lotte_happy_medium.ttf HTTP/1.1\u001b[0m\" 200 -\n"
          ]
        }
      ],
      "source": [
        "from werkzeug.utils import secure_filename\n",
        "@app.route('/')\n",
        "def firstpage():\n",
        "    return render_template('index.html')\n",
        "print(public_url)\n",
        "\n",
        "#시작하기 버튼 누르면 이페이지로 이동\n",
        "@app.route('/page_main')\n",
        "def start():\n",
        "    return render_template('page_main.html')\n",
        "\n",
        "#page_main에서 next버튼 누르면 이곳으로 이동   \n",
        "@app.route('/page_edit', methods=['POST', 'GET'])\n",
        "def edit(): \n",
        "    if request.method == 'POST': \n",
        "       input_img = request.files[\"file\"]\n",
        "       input_img.save(\"./static/\"+secure_filename(input_img.filename))\n",
        "       # input_img_path = 'static/'+str(input_img)\n",
        "     #page_edit페이지 갈때 아예 static 경로에 있는 output.png를 입력으로 주고 page_edit.html 46행에서 이 이미지 사용(flask로 이미지 전달) \n",
        "    return render_template('page_edit.html',image_file=secure_filename(input_img.filename))   \n",
        "#if __name__ == '__main__':\n",
        "app.run(port=port_no)"
      ]
    },
    {
      "cell_type": "code",
      "execution_count": 11,
      "metadata": {
        "id": "IoBMMbqCqKu7"
      },
      "outputs": [],
      "source": [
        ""
      ]
    },
    {
      "cell_type": "code",
      "execution_count": 11,
      "metadata": {
        "id": "tAElgN7iuibx"
      },
      "outputs": [],
      "source": [
        ""
      ]
    },
    {
      "cell_type": "code",
      "execution_count": 11,
      "metadata": {
        "id": "ahWuyITKghqh"
      },
      "outputs": [],
      "source": [
        ""
      ]
    },
    {
      "cell_type": "code",
      "execution_count": 11,
      "metadata": {
        "id": "S0WzuMAVev7d"
      },
      "outputs": [],
      "source": [
        ""
      ]
    },
    {
      "cell_type": "code",
      "execution_count": 11,
      "metadata": {
        "id": "snQkXo_1eweN"
      },
      "outputs": [],
      "source": [
        ""
      ]
    },
    {
      "cell_type": "code",
      "execution_count": 11,
      "metadata": {
        "id": "E5OElEgRewt4"
      },
      "outputs": [],
      "source": [
        ""
      ]
    }
  ],
  "metadata": {
    "accelerator": "GPU",
    "colab": {
      "collapsed_sections": [],
      "name": "FLASK.ipynb",
      "provenance": []
    },
    "gpuClass": "standard",
    "kernelspec": {
      "display_name": "Python 3",
      "name": "python3"
    },
    "language_info": {
      "name": "python"
    }
  },
  "nbformat": 4,
  "nbformat_minor": 0
}